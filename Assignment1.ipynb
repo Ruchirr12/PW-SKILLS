{
  "nbformat": 4,
  "nbformat_minor": 0,
  "metadata": {
    "colab": {
      "provenance": []
    },
    "kernelspec": {
      "name": "python3",
      "display_name": "Python 3"
    },
    "language_info": {
      "name": "python"
    }
  },
  "cells": [
    {
      "cell_type": "markdown",
      "source": [
        "Q1 .  Who Developed Python Programming Language\n",
        "\n",
        "Ans. Guido Van Rossum"
      ],
      "metadata": {
        "id": "-68NmF9Wf6hx"
      }
    },
    {
      "cell_type": "markdown",
      "source": [
        "Q2 Which type of programming does python suport?\n",
        "\n",
        "Ans. Python is an interpreted programming language, which supports object oriented , structured and functional programming\n"
      ],
      "metadata": {
        "id": "5qXv_PM0gRbw"
      }
    },
    {
      "cell_type": "markdown",
      "source": [
        "Q3 . Is python case sensitive when dealing with identifiers?\n",
        "\n",
        "Ans. Yes, Python is case-sensitive when dealing with identifiers (variable names, function names, etc.)\n",
        "\n"
      ],
      "metadata": {
        "id": "UqxRYrX3g7kl"
      }
    },
    {
      "cell_type": "markdown",
      "source": [
        "Q4. What is the correct extension of the python file ?\n",
        "\n",
        "Ans. The correct extension for a Python file is \".py\". This extension is used to indicate that the file is a Python source code file, and it can be executed using the Python interpreter."
      ],
      "metadata": {
        "id": "KzXpBJLfh2t-"
      }
    },
    {
      "cell_type": "markdown",
      "source": [
        "Q5. Is python code compiled or interpreted ?\n",
        "\n",
        "Ans. Python code is interpreted, not compiled. This means that when you run a Python program, the code is passed through the Python interpreter, which executes the code line by line"
      ],
      "metadata": {
        "id": "Y2YyBfbhi2Sc"
      }
    },
    {
      "cell_type": "markdown",
      "source": [
        "Q6. Name a few blocks of code used to define in python language?\n",
        "\n",
        "Ans. In Python, there are several blocks of code used to define different structures, including:\n",
        "\n",
        "1  Functions - defined using the \"def\" keyword and allow you to encapsulate a block of code to be executed whenever the function is called.\n",
        "\n",
        "2 Classes - defined using the \"class\" keyword and provide a blueprint for creating objects (instances of the class).\n",
        "\n",
        "3 Loops - defined using the \"for\" and \"while\" keywords, allow you to execute a block of code multiple times.\n",
        "\n",
        "4 Conditional statements - defined using the \"if\" keyword, allow you to specify that a block of code should only be executed if a certain condition is met.\n",
        "\n",
        "5 Try-except blocks - defined using the \"try\" and \"except\" keywords, allow you to handle exceptions and errors that occur during the execution of your code."
      ],
      "metadata": {
        "id": "cnuH54u4jeg3"
      }
    },
    {
      "cell_type": "markdown",
      "source": [
        "Q7. State a character used to give single-line comments in python\n",
        "\n",
        "Ans. In Python, the character \"#\" is used to give single-line comments."
      ],
      "metadata": {
        "id": "doBKsMwak4OW"
      }
    },
    {
      "cell_type": "markdown",
      "source": [
        "Q8. Mention function which can help us to find the version of python that we currently working on\n",
        "\n",
        "Ans. In Python, the sys module provides a function named sys.version which returns a string representing the version of the Python interpreter you are currently using."
      ],
      "metadata": {
        "id": "AhhIRR6elfNQ"
      }
    },
    {
      "cell_type": "code",
      "source": [
        "import sys\n",
        "print(sys.version)"
      ],
      "metadata": {
        "colab": {
          "base_uri": "https://localhost:8080/"
        },
        "id": "lYB2c3m_mWR9",
        "outputId": "16181998-df09-475f-fb9b-c04b3dd9e897"
      },
      "execution_count": 1,
      "outputs": [
        {
          "output_type": "stream",
          "name": "stdout",
          "text": [
            "3.8.10 (default, Nov 14 2022, 12:59:47) \n",
            "[GCC 9.4.0]\n"
          ]
        }
      ]
    },
    {
      "cell_type": "markdown",
      "source": [
        "Q9. Python supports the creation of anonymous functions at runtime, using a construct called\n",
        "\n",
        "Ans. \"lambda\""
      ],
      "metadata": {
        "id": "aoOpyG6WmkuM"
      }
    },
    {
      "cell_type": "markdown",
      "source": [
        "Q10. What does pip stand for in python?\n",
        "\n",
        "Ans. PIP stands for \"Pip Installs Packages\" in Python. It is a package management system for Python, used to install and manage packages and libraries for use in Python projects. PIP allows you to easily install packages from the Python Package Index (PyPI) or from other sources, and keep them up-to-date as needed. It is a crucial tool for managing dependencies and ensuring that the packages required by a project are installed and available for use. PIP can be run from the command line, and is typically included with most installations of Python."
      ],
      "metadata": {
        "id": "8EBB453fndtt"
      }
    },
    {
      "cell_type": "markdown",
      "source": [
        "Q11 Mention a few built in function in python?\n",
        "\n",
        "Ans. Some of the most commonly used built-in functions in Python include:\n",
        "\n",
        "1.print() - used to display output on the screen.\n",
        "\n",
        "2.len() - used to find the length of a string, list, tuple, or other objects.\n",
        "\n",
        "3.type() - used to find the type of an object.\n",
        "\n",
        "4.int() - used to convert a value to an integer.\n",
        "\n",
        "5.float() - used to convert a value to a floating-point number.\n",
        "\n",
        "6.str() - used to convert a value to a string.\n",
        "\n",
        "7.sum() - used to calculate the sum of a list of numbers."
      ],
      "metadata": {
        "id": "xUicDw80oeYG"
      }
    },
    {
      "cell_type": "markdown",
      "source": [
        "Q12. Maximum length of an identifier in python?\n",
        "\n",
        "Ans. In Python, there is no specified limit to the length of an identifier (variable, function name, class name, etc.).\n",
        "It is generally recommended to keep identifiers short and descriptive, for the sake of readability and maintainability of the code."
      ],
      "metadata": {
        "id": "HZuAMpsXppUL"
      }
    },
    {
      "cell_type": "markdown",
      "source": [
        "Q13. What are the benefits of using python?\n",
        "\n",
        "Ans. 1.Easy to Learn and Use \n",
        "     2.Versatile\n",
        "     3.Large Community \n",
        "     4.Extensive Standard Library \n",
        "     5.Dynamic Typing \n",
        "     6.Interoperability \n",
        "     7.Good for Prototyping \n",
        "     8.Growing Demand "
      ],
      "metadata": {
        "id": "F2giFraNqqQr"
      }
    },
    {
      "cell_type": "markdown",
      "source": [
        "Q14. How is memory managed in python?\n",
        "\n",
        "Ans. Memory in Python is managed automatically through a process called \"garbage collection\". This means that the Python interpreter automatically frees up memory that is no longer being used by the program.\n",
        "When an object is created in Python, a reference to that object is stored in memory. When the last reference to that object is deleted or goes out of scope, the memory occupied by that object can be freed up for use by other parts of the program. \n",
        "In general, however, Python's automatic memory management makes it easier for developers to write efficient, reliable code, and it helps ensure that Python programs run smoothly and efficiently on a wide range of systems."
      ],
      "metadata": {
        "id": "gy0l_V0Esec0"
      }
    },
    {
      "cell_type": "markdown",
      "source": [
        "Q15. How to install python on windows and set path variables?\n",
        "\n",
        "Ans. Here is how you can install Python on Windows and set the PATH environment variable:\n",
        "\n",
        "1. Download the Python installation package for Windows from the official Python website (https://www.python.org/downloads/).\n",
        "\n",
        "2. Run the installation package and follow the on-screen instructions to complete the installation process.\n",
        "\n",
        "3. Once the installation is complete, open the Start menu and search for \"Environment Variables\".\n",
        "\n",
        "4. Click on \"Edit the system environment variables\".\n",
        "\n",
        "5. Click on the \"Environment Variables\" button.\n",
        "\n",
        "6. Under \"System Variables\", scroll down and find the \"Path\" variable.\n",
        "\n",
        "7. Click on \"Edit\" and then \"New\" and enter the location of the Python executable, typically \"C:\\PythonXX\\python.exe\" (XX is the version number of Python you have installed).\n",
        "\n",
        "8. Close all open windows and restart your computer.\n",
        "\n",
        "Now, you should be able to run Python from the command prompt by typing \"python\" and pressing Enter. The PATH environment variable allows you to run Python from any location on your computer without having to specify the full path to the Python executable.\n",
        "\n",
        "It's important to note that the steps for setting the PATH variable may vary slightly depending on the version of Windows you are using. If you encounter any issues, consult the documentation for your specific version of Windows or seek help from a knowledgeable person."
      ],
      "metadata": {
        "id": "vWLrLvMgtUTH"
      }
    },
    {
      "cell_type": "markdown",
      "source": [
        "Q16. IS INDENTATION REQUIRED IN PYTHON?\n",
        "\n",
        "Ans. Yes, indentation is required in Python. Indentation is used to define blocks of code, such as loops and conditional statements. In Python, indentation is used instead of braces or other delimiters, and it is a fundamental part of the language syntax.\n",
        "\n",
        "For example, the following code defines a for loop that iterates over a range of numbers:"
      ],
      "metadata": {
        "id": "W5jwgljuurIe"
      }
    },
    {
      "cell_type": "code",
      "source": [
        "for i in range(10):\n",
        "    print(i)\n"
      ],
      "metadata": {
        "id": "y_rHJqXnu8Aj"
      },
      "execution_count": null,
      "outputs": []
    }
  ]
}